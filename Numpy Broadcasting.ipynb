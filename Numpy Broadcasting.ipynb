{
 "cells": [
  {
   "cell_type": "code",
   "execution_count": null,
   "id": "f466a722-6f01-4605-8091-bbd34583a1e2",
   "metadata": {},
   "outputs": [],
   "source": [
    "Broadcasting Rules\n",
    "Broadcasting is possible if the following cases are satisfied.\n",
    "\n",
    "1.The smaller dimension array can be appended with '1' in its shape.\n",
    "2.Size of each output dimension is the maximum of the input sizes in the dimension.\n",
    "3.An input can be used in the calculation if its size in a particular dimension matches the output size or its value is exactly 1.\n",
    "4.If the input size is 1, then the first data entry is used for the calculation along the dimension.\n",
    "\n",
    "\n",
    "    \n",
    "Broadcasting can be applied to the arrays if the following rules are satisfied.\n",
    "\n",
    "1.All the input arrays have the same shape.\n",
    "2.Arrays have the same number of dimensions, and the length of each dimension is either a common length or 1.\n",
    "3.Array with the fewer dimension can be appended with '1' in its shape.\n"
   ]
  },
  {
   "cell_type": "code",
   "execution_count": null,
   "id": "3e879d18-aaba-46b4-85b9-0dc51190d0b6",
   "metadata": {},
   "outputs": [],
   "source": [
    "# Example 1\n",
    "\n",
    "x.shape == ( 2, 3 )\n",
    "\n",
    "y.shape == ( 2, 3 ) # compatible\n",
    "y.shape == ( 2, 1 ) # compatible\n",
    "y.shape == ( 1, 3 ) # compatible\n",
    "y.shape == ( 3, ) #(1, 3) compatible\n",
    "\n",
    "#NOT compatibles\n",
    "\n",
    "y.shape == ( 3, 2 ) # NOT compatible\n",
    "y.shape == ( 2, ) # (1, 2) NOT compatible"
   ]
  },
  {
   "cell_type": "code",
   "execution_count": null,
   "id": "cb646877-c5a3-46cb-ba5a-b578b956fb92",
   "metadata": {},
   "outputs": [],
   "source": [
    "# Example 2\n",
    "\n",
    "\n",
    "x.shape == ( 1000, 250, 250, 250 )\n",
    "\n",
    "y.shape == ( 1000, 250, 250, 250 ) # compatible\n",
    "y.shape == ( 1000, 1, 250, 250 ) # compatible\n",
    "y.shape == ( 1000, 1, 1, 250 ) # compatible\n",
    "y.shape == (250, 250, 250 ) # (1, 250, 250, 250) compatible\n",
    "y.shape == (250, 1 ) # (1, 1, 250, 1) compatible\n",
    "\n",
    "# in-compatible\n",
    "\n",
    "y.shape == ( 1000, 250, 250 ) # (1, 1000, 250, 250) NOT compatible"
   ]
  },
  {
   "cell_type": "code",
   "execution_count": 1,
   "id": "aea89369-82b7-4af9-85b8-21789193d7e7",
   "metadata": {},
   "outputs": [
    {
     "name": "stdout",
     "output_type": "stream",
     "text": [
      "(4,)\n",
      "(4,)\n",
      "[2 4 6 8]\n"
     ]
    }
   ],
   "source": [
    "# Examples\n",
    "import numpy as np\n",
    "a = np.array([1,2,3,4])\n",
    "b = np.array([1,2,3,4])\n",
    "\n",
    "print(a.shape)\n",
    "print(b.shape)\n",
    "print(a + b)"
   ]
  },
  {
   "cell_type": "code",
   "execution_count": 2,
   "id": "fa23c5d1-0c28-4637-a021-7bb518805025",
   "metadata": {},
   "outputs": [
    {
     "name": "stdout",
     "output_type": "stream",
     "text": [
      "(3, 2)\n",
      "[[1 2]\n",
      " [3 4]\n",
      " [5 6]]\n",
      "(3,)\n",
      "[1 2 3]\n",
      "(2,)\n",
      "[10 20]\n",
      "Addition of a and c\n",
      "[[11 22]\n",
      " [13 24]\n",
      " [15 26]]\n"
     ]
    }
   ],
   "source": [
    "a = np.array([[1,2],[3,4],[5,6]])\n",
    "print(a.shape)\n",
    "print(a)\n",
    "\n",
    "b = np.array([1,2,3])\n",
    "print(b.shape)\n",
    "print(b)\n",
    "\n",
    "c = np.array([10,20])\n",
    "print(c.shape)\n",
    "print(c)\n",
    "\n",
    "#print(a + b) #can't broadcast since (3,2) and (1,3) are incompatible shapes\n",
    "print(\"Addition of a and c\")\n",
    "print(a + c)"
   ]
  },
  {
   "cell_type": "code",
   "execution_count": 3,
   "id": "ad91129a-5085-4eb8-a6ad-a9c32a6f20fc",
   "metadata": {},
   "outputs": [
    {
     "name": "stdout",
     "output_type": "stream",
     "text": [
      "(3,)\n",
      "[1 2 3]\n",
      "\n",
      "(3, 1)\n",
      "[[1]\n",
      " [2]\n",
      " [3]]\n",
      "\n",
      "[[2 3 4]\n",
      " [3 4 5]\n",
      " [4 5 6]]\n"
     ]
    }
   ],
   "source": [
    "a = np.array([1,2,3])\n",
    "b = np.array([[1],[2],[3]])\n",
    "\n",
    "print(a.shape)\n",
    "print(a)\n",
    "print()\n",
    "print(b.shape)\n",
    "print(b)\n",
    "print()\n",
    "print(a + b)"
   ]
  },
  {
   "cell_type": "code",
   "execution_count": null,
   "id": "f7eefddb-3059-43c1-8c0a-f3403fd5ff36",
   "metadata": {},
   "outputs": [],
   "source": []
  }
 ],
 "metadata": {
  "kernelspec": {
   "display_name": "Python 3 (ipykernel)",
   "language": "python",
   "name": "python3"
  },
  "language_info": {
   "codemirror_mode": {
    "name": "ipython",
    "version": 3
   },
   "file_extension": ".py",
   "mimetype": "text/x-python",
   "name": "python",
   "nbconvert_exporter": "python",
   "pygments_lexer": "ipython3",
   "version": "3.11.5"
  }
 },
 "nbformat": 4,
 "nbformat_minor": 5
}
